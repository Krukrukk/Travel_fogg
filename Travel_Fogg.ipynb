{
 "cells": [
  {
   "cell_type": "markdown",
   "metadata": {
    "colab_type": "text",
    "id": "Cr0QmpxvtUFC"
   },
   "source": [
    "Maciek Małecki\n",
    "# Analisys of text and visualisation on map"
   ]
  },
  {
   "cell_type": "markdown",
   "metadata": {
    "colab_type": "text",
    "id": "tDIf0OGStmm3"
   },
   "source": [
    "Download the novel “Around the world in 80 days” by J. Verne from Project\n",
    "Gutenberg website (link: http://www.gutenberg.org/files/103/103-h/103-h.htm). Find all cities visited by Phileas Fogg, the protagonist of\n",
    "the novel. Draw the path of his journey on a world map.\n"
   ]
  },
  {
   "cell_type": "markdown",
   "metadata": {
    "colab_type": "text",
    "id": "lqclnM7TV1GD"
   },
   "source": [
    "### Library"
   ]
  },
  {
   "cell_type": "code",
   "execution_count": 0,
   "metadata": {
    "colab": {
     "base_uri": "https://localhost:8080/",
     "height": 799
    },
    "colab_type": "code",
    "collapsed": true,
    "id": "BGDe4_RvtSg_",
    "outputId": "01177488-28d0-4655-cee4-11a780f84063"
   },
   "outputs": [
    {
     "name": "stdout",
     "output_type": "stream",
     "text": [
      "Collecting bs4\n",
      "  Downloading https://files.pythonhosted.org/packages/10/ed/7e8b97591f6f456174139ec089c769f89a94a1a4025fe967691de971f314/bs4-0.0.1.tar.gz\n",
      "Requirement already satisfied: beautifulsoup4 in /usr/local/lib/python3.6/dist-packages (from bs4) (4.6.3)\n",
      "Building wheels for collected packages: bs4\n",
      "  Running setup.py bdist_wheel for bs4 ... \u001b[?25l-\b \bdone\n",
      "\u001b[?25h  Stored in directory: /root/.cache/pip/wheels/a0/b0/b2/4f80b9456b87abedbc0bf2d52235414c3467d8889be38dd472\n",
      "Successfully built bs4\n",
      "Installing collected packages: bs4\n",
      "Successfully installed bs4-0.0.1\n",
      "Collecting lxml\n",
      "\u001b[?25l  Downloading https://files.pythonhosted.org/packages/03/a4/9eea8035fc7c7670e5eab97f34ff2ef0ddd78a491bf96df5accedb0e63f5/lxml-4.2.5-cp36-cp36m-manylinux1_x86_64.whl (5.8MB)\n",
      "\u001b[K    100% |████████████████████████████████| 5.8MB 4.2MB/s \n",
      "\u001b[?25hInstalling collected packages: lxml\n",
      "Successfully installed lxml-4.2.5\n",
      "Collecting geotext\n",
      "\u001b[?25l  Downloading https://files.pythonhosted.org/packages/25/c5/36351193092cb4c1d7002d2a3babe5e72ae377868473933d6f63b41e5454/geotext-0.4.0-py2.py3-none-any.whl (2.0MB)\n",
      "\u001b[K    100% |████████████████████████████████| 2.0MB 13.7MB/s \n",
      "\u001b[?25hInstalling collected packages: geotext\n",
      "Successfully installed geotext-0.4.0\n",
      "Collecting folium\n",
      "\u001b[?25l  Downloading https://files.pythonhosted.org/packages/88/89/8186c3441eb2a224d2896d9a8db6ded20ddd225f109e6144494a9893a0c1/folium-0.6.0-py3-none-any.whl (79kB)\n",
      "\u001b[K    100% |████████████████████████████████| 81kB 2.2MB/s \n",
      "\u001b[?25hRequirement already satisfied: six in /usr/local/lib/python3.6/dist-packages (from folium) (1.11.0)\n",
      "Requirement already satisfied: numpy in /usr/local/lib/python3.6/dist-packages (from folium) (1.14.6)\n",
      "Requirement already satisfied: jinja2 in /usr/local/lib/python3.6/dist-packages (from folium) (2.10)\n",
      "Collecting branca>=0.3.0 (from folium)\n",
      "  Downloading https://files.pythonhosted.org/packages/63/36/1c93318e9653f4e414a2e0c3b98fc898b4970e939afeedeee6075dd3b703/branca-0.3.1-py3-none-any.whl\n",
      "Requirement already satisfied: requests in /usr/local/lib/python3.6/dist-packages (from folium) (2.18.4)\n",
      "Requirement already satisfied: MarkupSafe>=0.23 in /usr/local/lib/python3.6/dist-packages (from jinja2->folium) (1.1.0)\n",
      "Requirement already satisfied: chardet<3.1.0,>=3.0.2 in /usr/local/lib/python3.6/dist-packages (from requests->folium) (3.0.4)\n",
      "Requirement already satisfied: certifi>=2017.4.17 in /usr/local/lib/python3.6/dist-packages (from requests->folium) (2018.10.15)\n",
      "Requirement already satisfied: urllib3<1.23,>=1.21.1 in /usr/local/lib/python3.6/dist-packages (from requests->folium) (1.22)\n",
      "Requirement already satisfied: idna<2.7,>=2.5 in /usr/local/lib/python3.6/dist-packages (from requests->folium) (2.6)\n",
      "Installing collected packages: branca, folium\n",
      "Successfully installed branca-0.3.1 folium-0.6.0\n",
      "Collecting geopy\n",
      "\u001b[?25l  Downloading https://files.pythonhosted.org/packages/f3/b4/c8842fc6a07fc95d6887370768850885382b47bf52f5cd8b6a4ae1b6f4d9/geopy-1.17.0-py2.py3-none-any.whl (92kB)\n",
      "\u001b[K    100% |████████████████████████████████| 92kB 2.5MB/s \n",
      "\u001b[?25hCollecting geographiclib<2,>=1.49 (from geopy)\n",
      "  Downloading https://files.pythonhosted.org/packages/5b/ac/4f348828091490d77899bc74e92238e2b55c59392f21948f296e94e50e2b/geographiclib-1.49.tar.gz\n",
      "Building wheels for collected packages: geographiclib\n",
      "  Running setup.py bdist_wheel for geographiclib ... \u001b[?25l-\b \bdone\n",
      "\u001b[?25h  Stored in directory: /root/.cache/pip/wheels/99/45/d1/14954797e2a976083182c2e7da9b4e924509e59b6e5c661061\n",
      "Successfully built geographiclib\n",
      "Installing collected packages: geographiclib, geopy\n",
      "Successfully installed geographiclib-1.49 geopy-1.17.0\n"
     ]
    }
   ],
   "source": [
    "!pip install bs4\n",
    "!pip install lxml\n",
    "!pip install geotext\n",
    "!pip install folium\n",
    "!pip install geopy"
   ]
  },
  {
   "cell_type": "code",
   "execution_count": 0,
   "metadata": {
    "colab": {},
    "colab_type": "code",
    "id": "zVqCrQ8OV39y"
   },
   "outputs": [],
   "source": [
    "import requests\n",
    "from  bs4 import BeautifulSoup\n",
    "import lxml\n",
    "import re\n",
    "import matplotlib.pyplot as plt\n",
    "from geotext import GeoText\n",
    "import numpy as np\n",
    "import folium\n",
    "import time\n",
    "from geopy.geocoders import Nominatim\n",
    "from operator import itemgetter"
   ]
  },
  {
   "cell_type": "markdown",
   "metadata": {
    "colab_type": "text",
    "id": "-C979M5YWA_v"
   },
   "source": [
    "## Definition\n"
   ]
  },
  {
   "cell_type": "code",
   "execution_count": 0,
   "metadata": {
    "colab": {},
    "colab_type": "code",
    "id": "6nU9RTiyWBtW"
   },
   "outputs": [],
   "source": [
    "def import_chapter(index_url):\n",
    "    r = requests.get(index_url)\n",
    "    soup = BeautifulSoup(r.content,\"lxml\")\n",
    "    data=soup.find_all('p')\n",
    "    lenght = len(data)\n",
    "#     list_h = list_head\n",
    "    return data, lenght\n",
    "\n",
    "def cleaning(words):\n",
    "    words = words.replace(\"Bombay\", \"Mumbai\")\n",
    "    words = words.replace(\"Calcutta\", \"Kolkata\")\n",
    "    words = words.replace(\"Hong Kong\", \"Victoria\")\n",
    "    words = words.replace(\"Stuart\",\"\")\n",
    "    words = words.replace('\"',' ')\n",
    "    words = words.replace(\"Forster\",\"\")\n",
    "    words = words.replace(\"Wilson\",\"\")\n",
    "    words = words.replace(\"Reno\",\"\")\n",
    "    return words\n",
    "\n",
    "def remove_empty_place(city_around_the_world):\n",
    "    city = []\n",
    "    for i in range(len(city_around_the_world)):\n",
    "        for j in range(len(city_around_the_world[i][0])):\n",
    "            city.append(city_around_the_world[i][0][j])\n",
    "    return city\n",
    "\n",
    "def choose_cities(data):\n",
    "    keys_words = ['beetween','from','to','was','arrived','Left','left','reached','visited', 'departed',' abandoned','stayed','stopped','arrival', 'Reached']\n",
    "    city_around_the_world = []\n",
    "    for paragraph in data:\n",
    "        part_text = str(paragraph)\n",
    "        part_text = part_text.replace(\"\\r\\n\",\" \")\n",
    "        part_text = part_text.replace(\",\",\" \")\n",
    "        sentence = part_text.split(\".\")\n",
    "        city_paragraph = []\n",
    "        \n",
    "        for words in sentence:\n",
    "            words = cleaning(words)\n",
    "            wordssss = words.split(\" \")\n",
    "            correct_words = [x for x in wordssss if x != '<p>' and x != '' and x != '</p>']\n",
    "            places = GeoText(words)\n",
    "            names_cities = places.cities\n",
    "            city_sentens = []\n",
    "            \n",
    "            if len(names_cities) != 0:\n",
    "                for city in names_cities:\n",
    "#                     print(correct_words)\n",
    "#                     print(city)\n",
    "                    if city in correct_words:\n",
    "                        position_city = correct_words.index(city)\n",
    "                        for check_keys_words in keys_words:\n",
    "                            if check_keys_words in correct_words:\n",
    "                                position_keys_word = correct_words.index(check_keys_words)\n",
    "                                if position_city - position_keys_word < 15 and position_city - position_keys_word >0 :\n",
    "                                    city_sentens.append(city)\n",
    "                city_sentens = list(set(city_sentens))\n",
    "            city_paragraph.append(city_sentens)\n",
    "        if len(city_paragraph)!=0:\n",
    "            city_around_the_world.append(city_paragraph)        \n",
    "    city = remove_empty_place(city_around_the_world)\n",
    "    return city, city_around_the_world\n",
    "#     print(len(list(set(city))))    \n",
    "    # list_of_city = list(set(city))\n",
    "#     print(len(city))\n",
    "\n",
    "def remove_duplication(date):\n",
    "    city_without_duplication = []\n",
    "    for i in city:\n",
    "        if i not in city_without_duplication:\n",
    "            city_without_duplication.append(i)\n",
    "    city_without_duplication.append('London')\n",
    "    return city_without_duplication  \n",
    "    \n",
    "    \n",
    "def localisation(cities):\n",
    "    local = []\n",
    "    for city in cities:\n",
    "        c = geocoder.google(city)\n",
    "        local.append((c.latlang[0], c.latlang[1]))\n",
    "    \n",
    "\n",
    "    \n",
    "def localization(cities):\n",
    "    geolocator = Nominatim()\n",
    "    positions = dict()\n",
    "    for c in cities:\n",
    "        while True:\n",
    "            try:\n",
    "                position = geolocator.geocode(c)\n",
    "            except:\n",
    "                time.sleep(0.1)\n",
    "                continue\n",
    "            break\n",
    "        if position:\n",
    "            location = [position.latitude, position.longitude]\n",
    "            positions.update({c : location})\n",
    "            del position\n",
    "        else:\n",
    "            print(\"Could not get position for {}\".format(c))\n",
    "    positions = sorted(list(positions.values()), key=lambda x: x[1])        \n",
    "    return positions\n",
    "    \n",
    "    \n",
    "\n",
    "def show_map(positions):\n",
    "    mapa = folium.Map(location=[0, 0], zoom_start=4)\n",
    "    locations = []\n",
    "    for location in positions:\n",
    "#         mapa.add_child(folium.Marker(location=location,popup=folium.Popup(city),icon=folium.Icon(color='orange',icon='ok')))\n",
    "        #add a markers\n",
    "        folium.Marker(location).add_to(mapa)\n",
    "        locations.append(location)\n",
    "    folium.PolyLine(locations, color=\"red\", weight=2.5, opacity=1).add_to(mapa)\n",
    "    return mapa "
   ]
  },
  {
   "cell_type": "code",
   "execution_count": 13,
   "metadata": {
    "colab": {
     "base_uri": "https://localhost:8080/",
     "height": 1123
    },
    "colab_type": "code",
    "executionInfo": {
     "elapsed": 8407,
     "status": "ok",
     "timestamp": 1542202864896,
     "user": {
      "displayName": "Maciek Małecki",
      "photoUrl": "https://lh5.googleusercontent.com/-R88BWjL6JLo/AAAAAAAAAAI/AAAAAAAAGnI/HYX3lo-89Mk/s64/photo.jpg",
      "userId": "15551833865131003874"
     },
     "user_tz": -60
    },
    "id": "axvQH45Lr-7R",
    "outputId": "3d2fc9b3-3ea9-4e11-8bfc-c8f075ff5286"
   },
   "outputs": [
    {
     "name": "stderr",
     "output_type": "stream",
     "text": [
      "/usr/local/lib/python3.6/dist-packages/geopy/geocoders/osm.py:143: UserWarning: Using Nominatim with the default \"geopy/1.17.0\" `user_agent` is strongly discouraged, as it violates Nominatim's ToS https://operations.osmfoundation.org/policies/nominatim/ and may possibly cause 403 and 429 HTTP errors. Please specify a custom `user_agent` with `Nominatim(user_agent=\"my-application\")` or by overriding the default `user_agent`: `geopy.geocoders.options.default_user_agent = \"my-application\"`. In geopy 2.0 this will become an exception.\n",
      "  UserWarning\n"
     ]
    },
    {
     "data": {
      "text/html": [
       "<div style=\"width:100%;\"><div style=\"position:relative;width:100%;height:0;padding-bottom:60%;\"><iframe src=\"data:text/html;charset=utf-8;base64,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\" style=\"position:absolute;width:100%;height:100%;left:0;top:0;border:none !important;\" allowfullscreen webkitallowfullscreen mozallowfullscreen></iframe></div></div>"
      ],
      "text/plain": [
       "<folium.folium.Map at 0x7feee524ab70>"
      ]
     },
     "execution_count": 13,
     "metadata": {
      "tags": []
     },
     "output_type": "execute_result"
    }
   ],
   "source": [
    "index_url = 'http://www.gutenberg.org/files/103/103-h/103-h.htm'\n",
    "data, lenght = import_chapter(index_url)\n",
    "city,cc = choose_cities(data)\n",
    "city = remove_duplication(city)\n",
    "citypoint = city.index(\"Victoria\")\n",
    "city[citypoint] = \"Hong Kong\"\n",
    "position = localization(city)\n",
    "# position = sorted(list(position.values()), key=lambda x: x[1])\n",
    "show_map(position)\n",
    "# print(len(city))\n",
    "# print(city)\n",
    "# print(len(city))\n",
    "# print(cc)"
   ]
  },
  {
   "cell_type": "code",
   "execution_count": 0,
   "metadata": {
    "colab": {
     "base_uri": "https://localhost:8080/",
     "height": 34
    },
    "colab_type": "code",
    "id": "VOLw5jJ2XTGe",
    "outputId": "024dacc5-0dae-4bb8-fc82-ed57c7067b73"
   },
   "outputs": [
    {
     "data": {
      "text/plain": [
       "['Turin']"
      ]
     },
     "execution_count": 32,
     "metadata": {
      "tags": []
     },
     "output_type": "execute_result"
    }
   ],
   "source": [
    "#City - \n",
    "# Hong Kong, -> Xiānggǎng \n",
    "# Bombaj, -> Mumbai\n",
    "# Singapur,\n",
    "# Calcuta -> Kolkata\n",
    "places = GeoText(\"Turin is a great city\")\n",
    "places.cities"
   ]
  },
  {
   "cell_type": "code",
   "execution_count": 8,
   "metadata": {
    "colab": {
     "base_uri": "https://localhost:8080/",
     "height": 88
    },
    "colab_type": "code",
    "executionInfo": {
     "elapsed": 620,
     "status": "ok",
     "timestamp": 1542202065218,
     "user": {
      "displayName": "Maciek Małecki",
      "photoUrl": "https://lh5.googleusercontent.com/-R88BWjL6JLo/AAAAAAAAAAI/AAAAAAAAGnI/HYX3lo-89Mk/s64/photo.jpg",
      "userId": "15551833865131003874"
     },
     "user_tz": -60
    },
    "id": "4SQgWem2cIRj",
    "outputId": "bc56c526-7f51-4519-f278-11fb954fc22a"
   },
   "outputs": [
    {
     "name": "stdout",
     "output_type": "stream",
     "text": [
      "17\n",
      "['London', 'Paris', 'Suez', 'Mumbai', 'Kolkata', 'Hong Kong', 'Buxar', 'Patna', 'Yokohama', 'Shanghai', 'Oakland', 'Missouri', 'Ogden', 'Omaha', 'Kearney', 'Liverpool', 'London']\n",
      "[[[], [], [], [], [], []], [[], [], [], [], [], []], [[], []], [[], []], [[], [], []], [[], [], [], [], [], [], [], []], [[], [], [], []], [['London'], [], [], [], [], [], [], []], [[], [], [], [], [], [], [], [], []], [[], []], [[], [], [], []], [[], [], [], []], [[], []], [[], []], [[], []], [[]], [[], [], [], ['Paris'], [], [], []], [[], [], [], []], [[], []], [[]], [[], []], [[], [], []], [[]], [[], [], [], [], [], []], [[], []], [[], [], [], []], [[]], [[], []], [[], [], [], [], [], [], [], [], []], [[], [], [], []], [[], []], [['Paris'], [], [], [], [], []], [[], [], [], [], [], [], [], [], [], [], []], [[], [], [], [], [], [], [], []], [[], [], [], [], [], []], [[], [], [], [], [], [], [], []], [[], [], []], [[], [], [], [], [], [], [], [], [], [], [], []], [[]], [[], []], [[], [], []], [[], []], [[], []], [[]], [[], []], [[], []], [[], []], [[], [], [], [], [], [], [], [], [], [], [], [], ['Suez', 'Brindisi', 'Liverpool', 'Glasgow'], [], ['London'], []], [[], [], [], [], []], [[], [], [], [], []], [[], []], [[], [], []], [[]], [[]], [[], [], []], [[], [], []], [[], []], [[]], [[], [], [], [], [], []], [[], []], [[], [], []], [[], []], [[], []], [[], [], []], [[], [], []], [[], []], [[]], [[], []], [[], []], [[], [], []], [[], []], [[], []], [[], []], [[], [], []], [[]], [[]], [[], []], [[], []], [[]], [[], [], []], [[], [], []], [[], [], []], [[], []], [[], [], []], [[], [], []], [[], []], [[], [], []], [[], []], [[], []], [[], [], []], [[], []], [[], []], [[], []], [[], []], [[], [], []], [[], [], []], [[], [], [], [], []], [[], []], [[], [], [], [], [], []], [[], [], [], []], [[], [], []], [[], [], []], [[], []], [[], []], [[], []], [[], [], []], [[], [], []], [[], []], [[], []], [[], []], [[], [], []], [[], []], [[]], [[], [], []], [[], []], [[], []], [[], [], [], []], [[], []], [[], [], [], []], [[], []], [[], [], [], [], []], [[], [], []], [[], [], [], [], []], [[], []], [[], []], [[]], [[], []], [[], [], []], [[], []], [[], [], [], []], [[], [], [], []], [[], []], [[], [], []], [[], []], [[], [], [], []], [[], []], [[], [], [], []], [[], []], [[], [], [], []], [[], []], [[], [], []], [[]], [[]], [[]], [[], [], []], [['London'], [], [], [], [], [], [], [], []], [[], [], [], []], [[], []], [[], [], [], []], [[], []], [[], [], [], [], []], [[], [], [], []], [[], []], [[]], [['London'], []], [[]], [[], ['Mumbai'], []], [[], []], [[], [], [], [], []], [[]], [[], [], [], [], []], [[], [], ['Suez'], [], [], ['Suez'], [], []], [[]], [[], [], [], [], []], [[]], [[], [], [], [], [], []], [[], [], [], []], [[], [], []], [[], []], [[], [], []], [[], [], [], []], [[], [], []], [[], [], [], [], [], []], [[], []], [[], []], [[], []], [[], []], [[]], [[], ['Aden', 'Suez'], []], [[]], [[], []], [[], ['Asia'], [], []], [[], [], []], [[], [], ['London'], [], [], [], [], []], [[], [], [], [], []], [[], []], [[], []], [[]], [[], []], [[], []], [[]], [[], []], [[]], [[], []], [[], []], [[], []], [[], []], [[], [], []], [[], [], [], []], [[], []], [[]], [[], [], [], []], [[], []], [['London'], []], [[], []], [[], [], [], []], [[], [], []], [[], []], [[]], [[], []], [[]], [[], []], [[]], [[], []], [[], []], [['Suez'], []], [[], []], [[], [], [], []], [[], []], [[], []], [[], []], [[]], [[], [], [], []], [[], []], [[], [], []], [[], [], [], [], [], [], [], [], [], [], [], [], [], [], [], [], [], [], [], [], [], [], []], [[], [], [], ['Suez'], [], []], [[], []], [[]], [[], [], []], [[]], [[], []], [[], []], [[]], [[], []], [[]], [[], []], [[], []], [[]], [[], [], [], []], [[], []], [[], []], [[], []], [[], []], [[], []], [[], [], []], [[], []], [[], [], []], [[], [], [], []], [[]], [[], []], [[], []], [[], ['London']], [[], []], [[]], [[], [], []], [[], []], [[], [], [], []], [[], []], [[], []], [[]], [[], ['Mumbai'], []], [[]], [['London'], []], [[], ['London'], [], [], ['Mumbai'], []], [[], []], [[], [], []], [[]], [[], []], [[]], [[], []], [[]], [[]], [[], []], [[], [], [], [], []], [[], [], [], []], [['London'], []], [[], []], [[]], [[], []], [[]], [[], []], [[], []], [[], []], [['London', 'Mumbai'], []], [[], [], []], [[], [], ['Kolkata', 'Mumbai', 'Brindisi'], [], [], [], []], [[], [], [], [], [], [], []], [[], [], [], [], [], []], [[], [], ['Suez'], []], [[]], [[], []], [[]], [[], []], [[], []], [['Mumbai'], []], [[]], [[], [], []], [[]], [[], []], [[]], [[], [], []], [[], [], []], [[], [], []], [[], [], []], [[], []], [[], []], [[], []], [[], []], [[], [], []], [[], [], [], [], [], []], [['Mumbai'], ['Aden'], []], [[], [], [], [], [], []], [[], [], [], [], [], ['Mumbai'], [], [], [], [], [], []], [[], []], [['Mumbai'], ['London'], []], [[], [], []], [[], [], [], [], [], [], []], [['Kolkata', 'Mumbai'], [], [], []], [[], []], [[], [], [], []], [[], [], [], [], []], [[], [], []], [[], [], []], [[], []], [[]], [[]], [[], [], []], [[]], [[]], [[], [], [], ['Mumbai'], [], [], ['Mumbai'], [], ['Mumbai'], [], []], [['Suez', 'Mumbai', 'Paris'], [], []], [[], [], [], [], []], [[], [], [], [], []], [[], [], [], []], [[], []], [[], ['Mumbai'], ['Kolkata'], [], [], []], [[], [], [], []], [[], [], [], []], [[], []], [[], [], [], [], [], [], [], [], ['London'], [], [], []], [[], [], []], [[], [], [], [], []], [[]], [[], []], [[], [], [], []], [[], [], [], [], []], [[], [], [], []], [[], [], [], []], [[], [], [], [], [], [], [], [], []], [[], [], []], [[], ['Mumbai'], [], [], [], [], [], [], [], [], []], [[], [], [], [], [], []], [[], []], [[], []], [[]], [[], []], [[], []], [[], []], [[], []], [[], []], [[]], [[], [], []], [[]], [[], [], []], [[], []], [[], []], [['Kolkata', 'Mumbai'], []], [[], []], [[], [], []], [[], [], []], [[], [], []], [[], []], [[]], [[], [], [], [], [], []], [[], []], [[], [], [], []], [[], [], []], [[], []], [[], [], []], [[]], [[], []], [[], [], []], [[], [], [], [], [], [], [], [], [], [], [], [], [], [], [], [], [], [], []], [[], [], []], [[], [], [], [], [], [], []], [[], []], [[], []], [[], [], [], [], [], [], [], [], [], [], []], [[], [], [], []], [[], [], [], []], [[], [], [], [], []], [[], []], [[], [], [], [], [], [], [], [], []], [[], [], [], [], [], [], []], [[], [], []], [[], [], [], [], [], [], [], [], [], []], [[], [], [], [], [], [], [], []], [[], [], []], [[], []], [[], []], [[], []], [[], [], [], [], [], []], [[], [], []], [[], [], []], [[], [], [], [], [], [], []], [[], []], [[]], [[], []], [[], [], [], [], []], [[], [], [], []], [[], []], [[], [], [], []], [[]], [[], [], []], [[], []], [[], [], []], [[], []], [[]], [[], [], []], [[]], [[], [], [], [], [], ['Mumbai'], [], []], [[], []], [[]], [[], []], [[], []], [[], []], [[]], [[], []], [[]], [[], []], [[], [], [], []], [[], []], [[], []], [[]], [[], []], [[], [], [], [], []], [[], [], [], []], [[], []], [[], []], [[], [], []], [[], [], []], [[], []], [[], [], [], []], [[], []], [['Mumbai'], [], [], [], []], [[], [], [], [], []], [[], [], [], [], []], [[], [], []], [[], [], []], [[], []], [[], []], [[], [], [], []], [[], [], []], [[], [], [], []], [[], []], [[], []], [[], []], [[], []], [[], [], [], []], [[], [], [], []], [[], [], []], [[], [], []], [[], [], [], [], [], [], []], [[], [], [], []], [[], []], [[], []], [[], [], []], [[], []], [[], []], [[], []], [[], [], [], []], [[], []], [[], []], [[], [], [], [], [], [], [], [], [], [], []], [[], [], [], []], [[], [], [], [], []], [[], []], [[], []], [[], [], [], []], [[], []], [[], []], [[], [], []], [[], [], []], [[], [], [], [], []], [[], [], [], [], [], [], [], [], []], [[], []], [['Kolkata'], ['Kolkata', 'Victoria'], []], [[], [], [], []], [[], [], [], [], []], [[], []], [[]], [[], [], [], [], [], []], [[], [], []], [[], [], [], [], [], []], [[], [], [], []], [[], []], [[], []], [[], [], []], [[], [], [], [], []], [[], [], []], [[], [], [], [], [], [], []], [[], [], []], [['Victoria'], ['Victoria'], []], [[], [], []], [[], [], [], [], [], []], [[], [], [], [], []], [['Buxar', 'Patna'], []], [[], []], [['Victoria'], []], [['Kolkata'], [], [], [], []], [[], [], ['Victoria'], [], []], [[], []], [[], []], [[], []], [[], []], [[], []], [[], [], [], [], [], []], [[], []], [[], []], [[], [], [], [], []], [[], [], []], [[], []], [[], []], [[], []], [[], [], [], [], ['Victoria'], []], [[], []], [[], []], [[], [], []], [[], [], []], [[], [], [], [], []], [[], []], [[], []], [[], []], [[], []], [[], []], [[], []], [[], []], [[], [], []], [[]], [[], []], [[], ['Mumbai'], []], [[], []], [[], []], [[], []], [[]], [[], []], [[], []], [[], []], [[], []], [[], []], [[], []], [[], [], []], [[]], [[], []], [[], []], [[], []], [[], []], [[], []], [[], []], [[], [], []], [[], []], [[], []], [[], []], [[], []], [[], ['Kolkata'], [], [], [], [], [], [], [], []], [['Kolkata', 'Suez', 'Mumbai'], []], [[], []], [[], []], [[], [], []], [[], []], [[], []], [[], []], [[], []], [[], [], [], []], [[], [], []], [[], []], [[], []], [[], [], []], [[], [], []], [[], []], [[], []], [[], [], []], [[], [], [], [], [], []], [[], [], [], [], []], [[], [], []], [[], [], [], []], [[], [], ['Kolkata', 'Victoria'], []], [[], [], [], [], [], [], []], [[], [], [], ['Victoria'], [], [], [], []], [[], [], []], [[], [], ['Malacca'], []], [[], ['Mumbai'], [], []], [[], [], [], [], [], []], [['Victoria'], []], [[], [], [], [], [], [], [], [], []], [[], [], [], [], []], [[], []], [[], ['Victoria'], [], [], []], [[], []], [[], [], []], [[], ['Mumbai']], [[], []], [[], []], [[], [], [], []], [[], []], [[], []], [[], [], [], []], [[]], [[], [], []], [[], [], []], [[], [], []], [[], [], [], [], []], [[], [], [], ['Victoria'], []], [[], [], [], [], [], []], [[], [], []], [[], [], []], [[], [], [], [], [], [], []], [[], [], []], [[], [], [], [], [], []], [[], [], []], [[], [], []], [[], ['Victoria'], [], []], [[], []], [[], [], [], [], [], [], []], [[]], [[]], [[], []], [[], []], [[]], [[], [], []], [[], []], [[], []], [[], [], [], []], [[], []], [[], []], [[]], [['Mumbai'], [], []], [[], [], []], [[], [], []], [[], []], [[], [], [], []], [[], ['Victoria'], [], []], [[], [], [], [], [], []], [[], [], [], []], [[], [], []], [[], [], []], [[], [], [], [], [], ['Victoria'], []], [[], [], [], [], []], [[], [], [], [], [], []], [[], [], [], [], [], []], [[], [], [], [], []], [[], [], [], [], [], ['Yokohama'], []], [['Victoria'], [], [], [], []], [[], [], []], [[], []], [[], [], []], [[], []], [[], [], []], [[], []], [[]], [[], []], [[], [], []], [[]], [[], [], []], [[], []], [[], [], [], []], [['Victoria', 'Yokohama'], ['Yokohama'], [], []], [['Victoria'], [], [], []], [[], [], [], [], []], [[], [], ['Holland'], ['Holland', 'Victoria'], []], [[], [], [], []], [[], [], []], [[]], [[], []], [[], []], [[], []], [[], []], [[], [], [], ['Surrey', 'Kent', 'Victoria'], []], [[], ['Kolkata', 'Mumbai'], [], [], [], [], []], [[], [], []], [[], [], ['Victoria'], [], []], [[]], [[], []], [[], [], [], []], [[], [], []], [[], [], []], [[], ['Victoria'], [], [], [], [], [], [], []], [[], [], [], [], [], [], []], [[], [], [], []], [[], []], [[], []], [[], []], [[], [], []], [[], []], [[], [], [], []], [[]], [[]], [[], []], [[]], [[], [], [], []], [[], [], [], []], [[], [], []], [[], []], [[], [], []], [[], [], []], [[], []], [[], [], []], [[]], [[]], [[], [], []], [[], []], [[], [], []], [[], []], [[], []], [[], []], [[], [], [], []], [[]], [[], []], [[], [], [], []], [[], []], [['Victoria'], []], [[], []], [[], []], [[], []], [[]], [[], [], []], [[], []], [[], [], [], []], [[]], [[], [], [], [], []], [[], []], [[], [], []], [[], []], [[]], [[], [], []], [[], []], [[], [], []], [[]], [[], []], [[], []], [[], [], []], [[]], [[], []], [[], []], [[]], [[], [], [], [], [], []], [[], [], []], [[], []], [[], [], [], [], []], [[], []], [[], [], [], []], [[], ['Yokohama'], [], [], []], [[], [], [], [], [], [], []], [[], [], []], [[], [], []], [[], []], [[], []], [[], []], [[], [], []], [[], []], [[], []], [[], ['Victoria'], []], [[], [], [], ['Victoria'], []], [[], [], [], [], [], [], []], [[], [], []], [[]], [[]], [[], [], []], [[]], [[], []], [[], []], [[], []], [[], []], [[]], [[]], [[]], [[], ['Yokohama'], []], [[], []], [[], []], [[]], [[], []], [[], [], []], [[], []], [[], [], []], [[], []], [[], [], []], [[], ['Victoria'], []], [[], [], []], [[], []], [[], []], [[], []], [[], []], [[], [], []], [['Shanghai'], ['Shanghai'], []], [[], [], []], [[], ['Yokohama'], ['Shanghai'], []], [[]], [[], []], [[]], [[], ['Shanghai'], []], [[]], [[], []], [[], []], [[], []], [[]], [[]], [[]], [[], []], [[], [], []], [[], []], [[], []], [['Victoria'], [], [], []], [[], [], []], [[], [], [], [], [], []], [[], [], [], []], [[], [], []], [[], [], []], [[]], [[], [], [], [], [], []], [[], []], [[], [], []], [['Yokohama'], [], []], [[], []], [[], []], [[], [], [], []], [[], []], [[], [], [], [], []], [[], [], [], []], [[], []], [[], [], [], [], [], [], [], [], [], [], []], [[], [], [], []], [[], [], []], [[], [], [], []], [[], [], [], [], [], [], []], [[], [], []], [[], [], [], [], []], [[], [], []], [[], [], []], [[]], [[], [], [], []], [[], []], [[], [], [], [], [], [], []], [['Victoria'], ['London', 'Yokohama'], []], [[], [], []], [[], [], [], []], [[], [], []], [[], []], [[], []], [[], [], []], [[], [], []], [[], []], [[], [], [], []], [[], [], [], [], []], [[], [], [], []], [[], [], [], []], [[], [], [], [], [], []], [[], [], [], [], [], [], [], []], [[], []], [[], []], [[], [], []], [[]], [[], []], [[], [], []], [[], []], [[], [], [], [], [], []], [[], [], [], [], [], []], [[], [], [], []], [[], [], ['Shanghai'], [], ['Shanghai', 'Yokohama'], [], []], [[], ['Shanghai'], [], [], [], [], [], ['Shanghai'], [], [], [], [], [], []], [[], ['Yokohama'], []], [[], []], [[], []], [[], [], []], [[], []], [[], [], [], []], [['Victoria'], [], [], []], [[], []], [[], [], [], []], [[], [], [], [], [], [], []], [[], [], []], [[], [], [], [], []], [[], ['London'], [], [], []], [[], [], [], [], []], [[], [], [], [], [], []], [[], []], [[], [], []], [[], [], []], [[]], [[], []], [[]], [[], []], [[], []], [[], [], [], [], [], ['Victoria'], [], []], [[], [], [], [], [], [], [], []], [[], [], [], [], []], [[], [], [], [], [], [], []], [[], [], [], []], [[], [], []], [[], [], [], [], []], [[], [], [], [], []], [[], []], [[], []], [[], []], [[], []], [[], [], [], [], [], []], [[], []], [[], [], [], [], []], [[], [], [], [], []], [[], [], [], []], [[], []], [[], []], [[], [], [], []], [[], [], [], [], []], [[], [], []], [[], []], [[]], [[]], [[], [], []], [[], [], []], [[], [], []], [[], []], [[], []], [[], [], [], []], [[]], [[], []], [[]], [[], [], []], [[], []], [[], []], [[], []], [[]], [[], []], [[], [], [], []], [[]], [[]], [[], []], [[]], [[], []], [[]], [[], []], [[], []], [[], []], [[], [], [], []], [[], [], [], [], []], [[], [], []], [[], []], [[], [], [], []], [[], [], [], []], [[], []], [[], [], [], [], [], []], [[], [], [], []], [[], [], []], [[], [], [], []], [[], []], [[]], [[], []], [[]], [[], [], [], [], []], [[], [], []], [[], [], [], []], [[], [], []], [[], [], [], [], [], [], [], []], [['Shanghai', 'Victoria'], [], []], [[], [], []], [[], [], [], []], [['Yokohama'], [], [], [], [], [], []], [[], [], [], [], [], [], []], [[], [], ['Liverpool'], []], [[], ['London'], [], [], ['Kolkata', 'London', 'Aden', 'Mumbai'], [], []], [[], [], [], [], []], [[]], [[], [], [], []], [[]], [[], []], [[], [], ['Mumbai'], [], [], []], [[], [], [], [], []], [[], [], [], [], [], []], [[], [], []], [[], []], [[], []], [[], []], [[]], [[], []], [[], []], [[], [], [], [], [], [], []], [[]], [[], [], [], [], [], ['Yokohama'], []], [[], []], [[], [], [], [], [], [], []], [[], []], [[], []], [[], [], []], [[], []], [[], []], [[], [], []], [[], [], [], [], ['Asia'], []], [[], [], []], [[], [], [], [], [], []], [[], [], [], []], [[], [], ['London', 'Paris'], []], [[], []], [[], [], [], [], [], []], [[], [], ['Enfield'], ['Sioux'], [], [], []], [[], [], [], [], []], [[], [], [], []], [[], [], []], [[]], [[]], [[], [], [], []], [[], [], []], [[], [], []], [[], [], []], [[], [], [], [], [], [], []], [[], [], []], [[], [], []], [[], [], [], []], [[], [], [], [], [], [], [], []], [[], ['London'], [], []], [[], [], []], [[]], [[], [], [], [], [], [], [], [], []], [[], [], []], [[], []], [[], []], [[]], [[], []], [[], []], [[], [], [], [], []], [[], [], []], [[], [], []], [[]], [[], []], [[], [], [], [], []], [[], [], [], []], [[], [], []], [[], []], [[], [], []], [[], [], [], []], [[], [], []], [[], []], [[], []], [[], []], [[], [], []], [[], []], [[], []], [[], [], [], []], [[], [], []], [[], [], []], [[], [], [], [], [], []], [[], [], []], [[], []], [[], [], [], [], []], [[], []], [['Oakland'], [], ['Omaha'], []], [[], [], [], [], []], [[], []], [[], [], [], [], []], [[], ['Omaha'], ['Sacramento'], [], []], [[], [], [], [], []], [[], [], []], [[], []], [[], []], [[], [], [], [], [], []], [[], [], [], [], [], [], []], [[], []], [[], []], [[], [], []], [[], [], []], [[], [], [], []], [[], []], [[], []], [[], [], [], []], [[], [], [], []], [[], [], [], []], [[], [], []], [[], [], [], [], [], []], [[], []], [[], [], [], ['Union'], [], [], []], [[], []], [[], []], [[], [], []], [[], [], []], [[], []], [['Missouri'], []], [[], []], [[], [], [], []], [[], [], [], []], [[], [], []], [['Ogden'], ['Ogden'], [], [], []], [[], [], [], [], [], [], [], [], [], []], [[], [], [], [], [], [], [], []], [[], [], [], [], [], []], [[], []], [[], []], [[]], [[], [], [], [], [], []], [[], [], [], []], [[], []], [[], [], [], [], [], []], [[], []], [[], []], [[], [], [], [], [], [], [], []], [[], [], []], [[], [], [], []], [[], []], [[], [], [], [], [], [], []], [[], [], []], [[], [], [], [], []], [[], [], [], []], [[]], [[], []], [[], [], [], [], []], [[], [], []], [[], []], [[], [], []], [[], []], [[], [], []], [[], []], [[], []], [[], []], [[], [], [], [], []], [[], [], []], [[], [], []], [[], [], [], ['Missouri'], []], [[], [], [], [], [], [], []], [[], [], [], []], [[], [], []], [[], [], []], [[], [], [], []], [[], [], []], [[], [], [], [], []], [[], []], [[]], [['Omaha'], []], [[], []], [[], []], [[], []], [[], []], [[], []], [[], [], [], []], [[], [], []], [[], [], []], [[], []], [[], []], [[], []], [[]], [[], []], [[], []], [[], []], [[], []], [[], []], [[], [], []], [[], []], [[]], [[], []], [[], []], [[]], [[], []], [[]], [[], []], [[]], [[], []], [[], []], [[], []], [[]], [[], []], [[], []], [[], [], [], [], []], [[], [], [], []], [[], [], [], [], []], [[], [], [], ['Denver', 'Colorado'], [], []], [[], [], []], [[], [], []], [[], [], ['Sioux'], [], [], []], [['Omaha'], [], [], []], [[], []], [[], [], [], [], [], [], []], [[], []], [[], [], []], [[], []], [[]], [[], []], [[], []], [[], []], [[], []], [[], []], [[], [], [], [], []], [[], [], [], [], []], [[], []], [[], [], [], [], [], [], []], [[], []], [[], [], []], [[]], [[]], [[]], [[], []], [[], []], [[], []], [[], []], [[]], [[], []], [[]], [[]], [[], [], []], [[], [], [], []], [[], [], [], []], [[], []], [[], [], [], [], [], []], [[], [], [], [], [], []], [[], []], [[], []], [[], []], [[], []], [[], [], []], [[], []], [[], [], []], [[], []], [[], []], [[]], [[], []], [[], [], [], []], [[], [], [], [], [], [], [], [], []], [[], [], [], [], [], []], [[], [], ['Sioux'], []], [[], [], []], [[], []], [[], [], []], [[], [], [], [], []], [[], [], [], [], []], [[], ['Sioux'], []], [[], [], []], [[], []], [[], []], [[], [], []], [[], [], []], [['Kearney'], []], [[], []], [[], []], [[], [], []], [[], [], [], []], [[], [], [], []], [[], [], [], [], []], [[], [], [], [], [], []], [[], [], [], []], [[], [], []], [[], [], [], []], [[], ['Sioux'], []], [[], [], []], [[], []], [[], []], [[], [], []], [[], []], [[]], [[], []], [[], []], [[], [], [], []], [[]], [[], []], [[], [], [], []], [[], [], [], []], [[], [], []], [[], []], [[], [], []], [[], [], [], []], [[], []], [[], [], [], []], [[], []], [[], [], []], [[], [], [], [], []], [[], []], [[], [], [], [], [], []], [[], [], [], []], [[], [], ['Omaha'], [], []], [[], [], [], [], [], [], []], [[], ['Omaha'], [], [], []], [[], [], []], [[]], [[], []], [[]], [[], [], []], [[]], [[], []], [[]], [[], [], []], [[], []], [[], [], [], [], [], []], [[], [], [], []], [[], []], [[], [], [], [], [], [], []], [[], [], [], [], [], []], [[], [], [], []], [[], [], []], [[], [], [], [], []], [[], []], [[], [], [], []], [[], ['Sioux'], []], [[], [], []], [[], []], [[], [], [], []], [['Omaha'], []], [[], []], [[], []], [[], []], [[], []], [[], []], [[], [], []], [[], []], [[]], [[], []], [[], []], [[], []], [[]], [[], []], [[], [], [], []], [[], [], []], [[], [], [], []], [[], []], [[], [], [], [], []], [[], [], [], [], [], [], [], [], []], [[], [], [], [], ['Omaha'], ['Chicago'], [], []], [[], [], [], [], []], [[], [], []], [[], [], [], []], [[], [], []], [[], [], [], [], [], [], [], []], [[]], [[], ['Omaha'], []], [[], [], ['Fremont', 'Columbus'], [], [], [], [], []], [[], [], [], []], [[], [], []], [[], [], [], [], ['Liverpool'], []], [[], ['Omaha'], [], ['Sioux'], [], [], []], [[], [], [], [], [], [], [], [], [], [], []], [[], ['Omaha'], [], []], [[]], [[]], [[], [], ['Omaha'], []], [[], [], []], [[], [], [], []], [[], [], ['Chicago'], []], [[], [], ['Pittsburgh'], [], [], []], [[]], [[], [], ['Southampton', 'Hamburg'], [], []], [[], [], []], [[], [], [], [], [], [], []], [[], [], [], []], [[], [], ['London', 'Liverpool'], []], [[], [], ['Hudson'], [], [], []], [[], []], [[], [], [], []], [[], [], []], [[], []], [[], []], [[], []], [[]], [[], []], [[]], [[], []], [[]], [[], [], []], [[]], [[], [], [], []], [[]], [[], [], []], [[]], [[]], [[], []], [[]], [[]], [[], [], []], [[]], [[], []], [[], []], [[], []], [[], [], []], [[], []], [[], []], [[], []], [[], []], [[], ['Victoria'], [], [], []], [[], []], [[], []], [[], []], [[]], [[], []], [[]], [[], []], [[], [], [], [], []], [[], [], []], [[], [], [], [], [], []], [[], []], [[], [], []], [[], [], []], [[], [], [], [], [], []], [[], ['Liverpool'], [], [], [], [], []], [[], [], [], [], [], []], [['Liverpool'], [], [], []], [[], [], []], [[], [], [], [], [], [], [], [], [], []], [[], [], [], ['Liverpool'], [], []], [[], [], [], []], [[], [], []], [[], [], [], [], [], []], [[], [], [], [], []], [[], [], []], [['London'], [], [], [], [], []], [[], [], [], [], []], [[], ['Bordeaux'], [], [], []], [[], [], []], [[]], [[], []], [[], []], [[], []], [[], [], []], [[], [], []], [[], [], [], [], []], [[], [], []], [[], [], [], [], [], []], [[], []], [['Liverpool'], [], []], [[], []], [[]], [[]], [[], [], []], [[]], [[], []], [[]], [[], [], []], [[], []], [[], [], [], [], [], [], [], [], []], [[], []], [[], []], [[], []], [[], []], [[], [], []], [[], [], [], []], [[]], [[], []], [[], []], [[], []], [[], []], [[], [], []], [[], [], [], [], []], [[], [], [], ['Liverpool'], []], [[], [], [], [], []], [[], []], [[], []], [[]], [[], [], []], [[], [], []], [[], ['Liverpool', 'Dublin'], []], [[], ['London'], []], [[], []], [[], [], [], [], [], [], []], [[], ['London'], []], [[], []], [[], []], [[]], [[], ['London'], []], [[], [], [], [], []], [[], [], [], []], [[], [], [], []], [[], [], [], []], [[], [], ['London', 'Liverpool'], []], [[], [], [], [], []], [[], [], [], [], []], [[], [], [], [], [], [], [], []], [[], [], [], []], [['London'], [], [], []], [[], [], [], []], [[], []], [[], [], []], [[], []], [[]], [[], [], [], [], []], [['London'], [], [], [], []], [[], []], [[], []], [[], [], ['London'], []], [[], []], [[], [], []], [[], [], []], [[], [], [], [], [], []], [[], [], []], [[], [], [], []], [[], []], [[], [], []], [[], [], [], [], []], [[], [], [], [], []], [[], [], [], [], ['Liverpool']], [[], []], [[], []], [[], []], [[], []], [[]], [[], [], [], []], [[], []], [[], []], [[], []], [[], [], [], []], [[], [], [], [], [], [], [], [], [], [], [], [], []], [[], [], []], [[], [], []], [[], [], [], []], [[]], [[], [], []], [[], [], [], [], []], [[], []], [[], []], [[], []], [[], [], []], [[], []], [[], []], [[]], [[], []], [[], []], [[], []], [[]], [[], []], [[], [], [], []], [[], []], [[], []], [[], [], [], [], [], [], [], []], [[], []], [[], [], [], []], [[], [], []], [[], []], [[], []], [[]], [[], [], []], [[], []], [[], []], [[], [], []], [[], [], []], [[], [], []], [[], ['Asia'], [], [], [], [], [], [], []], [[], [], [], []], [[], [], []], [[], [], []], [[], []], [[], []], [[], [], []], [[], [], [], [], []], [[], []], [[], [], [], []], [[], []], [[], [], [], [], []], [[], [], []], [[], []], [[], []], [[], [], [], []], [[], []], [[], []], [[], []], [[], []], [[], [], [], []], [[], []], [[], [], [], []], [[], [], []], [[], []], [[], []], [[]], [[], []], [[], []], [[], [], [], [], []], [[], [], []], [[], []], [[], [], []], [[]], [[]], [[], []], [[]], [[]], [[], [], []], [[], []], [[]], [[], []], [[], []], [[], []], [[], []], [[]], [[]], [['London']], [[], []], [[], []], [[], [], [], [], [], []], [[]], [[], [], [], [], []], [[], []], [[], [], [], []], [[], []], [[], [], []], [[], []], [[], []], [[], [], []], [[]], [[]], [[], []], [[], [], []], [[], [], []], [[], [], [], []], [[]], [[]]]\n"
     ]
    }
   ],
   "source": [
    "print(len(city))\n",
    "print(city)\n",
    "# print(len(city))\n",
    "print(cc)"
   ]
  },
  {
   "cell_type": "markdown",
   "metadata": {
    "colab_type": "text",
    "id": "tZGLNTckY7qg"
   },
   "source": [
    "### Solution"
   ]
  },
  {
   "cell_type": "code",
   "execution_count": 0,
   "metadata": {
    "colab": {
     "base_uri": "https://localhost:8080/",
     "height": 224
    },
    "colab_type": "code",
    "id": "Ur-sg1MSY9_1",
    "outputId": "c18038f7-b37c-4a4d-a254-ece9625e960e"
   },
   "outputs": [
    {
     "name": "stdout",
     "output_type": "stream",
     "text": [
      "1604\n",
      "['<p>', 'Mr']\n",
      "['', 'Phileas', 'Fogg', 'lived', 'in', '1872', 'at', 'No']\n",
      "['', '7', 'Saville', 'Row', 'Burlington', 'Gardens', 'the', 'house', 'in', 'which', 'Sheridan', 'died', 'in', '1814']\n",
      "['', '', 'He', 'was', 'one', 'of', 'the', 'most', 'noticeable', 'members', 'of', 'the', 'Reform', 'Club', 'though', 'he', 'seemed', 'always', 'to', 'avoid', 'attracting', 'attention;', 'an', 'enigmatical', 'personage', 'about', 'whom', 'little', 'was', 'known', 'except', 'that', 'he', 'was', 'a', 'polished', 'man', 'of', 'the', 'world']\n",
      "['', '', 'People', 'said', 'that', 'he', 'resembled', 'Byron—at', 'least', 'that', 'his', 'head', 'was', 'Byronic;', 'but', 'he', 'was', 'a', 'bearded', 'tranquil', 'Byron', 'who', 'might', 'live', 'on', 'a', 'thousand', 'years', 'without', 'growing', 'old']\n",
      "['', '</p>']\n",
      "0\n",
      "0\n",
      "1\n"
     ]
    },
    {
     "data": {
      "text/plain": [
       "['London']"
      ]
     },
     "execution_count": 108,
     "metadata": {
      "tags": []
     },
     "output_type": "execute_result"
    }
   ],
   "source": [
    "index_url = 'http://www.gutenberg.org/files/103/103-h/103-h.htm'\n",
    "data, lenght = import_chapter(index_url)\n",
    "keys_words = ['was','arrived','left','reached','visited', 'departed',' abandoned','stayed','stopped','arrival']\n",
    "city_around_the_world = []\n",
    "print(len(data))\n",
    "for paragraph in data[:1]:\n",
    "    part_text = str(paragraph)\n",
    "    part_text = part_text.replace(\"\\r\\n\",\" \")\n",
    "    part_text = part_text.replace(\",\",\"\")\n",
    "    sentence = part_text.split(\".\")\n",
    "    city_paragraph = []\n",
    "    for words in sentence:\n",
    "        wordssss = words.split(\" \")\n",
    "        print(wordssss)\n",
    "        correct_words = [x for x in wordssss if x != '<p>' and x != '' and x != '</p>']\n",
    "#         print(correct_words)\n",
    "        places = GeoText(words)\n",
    "        names_cities = places.cities\n",
    "        city_sentens = []\n",
    "        if len(names_cities) != 0:\n",
    "            for city in names_cities:\n",
    "                position_city = correct_words.index(city)\n",
    "        #         position_city_in_sentens = correct_words.index(city)\n",
    "                for check_keys_words in keys_words:\n",
    "#                     print(correct_words)\n",
    "                    if check_keys_words in correct_words:\n",
    "                        print(check_keys_words)\n",
    "                        position_keys_word = correct_words.index(check_keys_words)\n",
    "                        if np.abs(position_city - position_keys_word) < 3:\n",
    "                            city_sentens.append(city)\n",
    "            city_sentens = list(set(city_sentens))\n",
    "        city_paragraph.append(city_sentens)\n",
    "    if len(city_paragraph)!=0:\n",
    "        city_around_the_world.append(city_paragraph)\n",
    "\n",
    "# city_around_the_world.remove([[]])\n",
    "city = []\n",
    "for i in range(len(city_around_the_world)):\n",
    "    for j in range(len(city_around_the_world[i][0])):\n",
    "        city.append(city_around_the_world[i][0][j] )\n",
    "    \n",
    "print(len(list(set(city))))    \n",
    "# list_of_city = list(set(city))\n",
    "print(len(city))\n",
    "city_without_duplication = []\n",
    "for i in city:\n",
    "    if i not in city_without_duplication:\n",
    "        city_without_duplication.append(i)\n",
    "city_without_duplication.append('London')\n",
    "print(len(city_without_duplication))\n",
    "city_without_duplication\n",
    "\n",
    "#City - Hong Kong, Bombaj, Singapur, Calcuta"
   ]
  }
 ],
 "metadata": {
  "colab": {
   "collapsed_sections": [
    "tZGLNTckY7qg"
   ],
   "name": "Analisys_of_unstructure_data_MM_3.ipynb",
   "provenance": [],
   "version": "0.3.2"
  },
  "kernelspec": {
   "display_name": "Python 3",
   "language": "python",
   "name": "python3"
  },
  "language_info": {
   "codemirror_mode": {
    "name": "ipython",
    "version": 3
   },
   "file_extension": ".py",
   "mimetype": "text/x-python",
   "name": "python",
   "nbconvert_exporter": "python",
   "pygments_lexer": "ipython3",
   "version": "3.7.3"
  }
 },
 "nbformat": 4,
 "nbformat_minor": 1
}
